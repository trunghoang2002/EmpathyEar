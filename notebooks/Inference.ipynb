{
 "cells": [
  {
   "cell_type": "code",
   "execution_count": 1,
   "metadata": {},
   "outputs": [
    {
     "name": "stdout",
     "output_type": "stream",
     "text": [
      "Python 3.7.16\n"
     ]
    }
   ],
   "source": [
    "!python -V"
   ]
  },
  {
   "cell_type": "code",
   "execution_count": 2,
   "metadata": {},
   "outputs": [
    {
     "name": "stderr",
     "output_type": "stream",
     "text": [
      "/home/hoang/.conda/envs/empathyear/lib/python3.7/site-packages/tqdm/auto.py:21: TqdmWarning: IProgress not found. Please update jupyter and ipywidgets. See https://ipywidgets.readthedocs.io/en/stable/user_install.html\n",
      "  from .autonotebook import tqdm as notebook_tqdm\n"
     ]
    },
    {
     "name": "stdout",
     "output_type": "stream",
     "text": [
      "11.7\n",
      "True\n"
     ]
    }
   ],
   "source": [
    "import torch\n",
    "print(torch.version.cuda)\n",
    "print(torch.cuda.is_available())"
   ]
  },
  {
   "cell_type": "code",
   "execution_count": null,
   "metadata": {},
   "outputs": [
    {
     "name": "stdout",
     "output_type": "stream",
     "text": [
      "/home/hoang/EmpathyEar/StyleTTS2\n",
      "Cloning into 'StyleTTS2-LibriTTS'...\n",
      "remote: Enumerating objects: 25, done.\u001b[K\n",
      "remote: Counting objects: 100% (12/12), done.\u001b[K\n",
      "remote: Compressing objects: 100% (9/9), done.\u001b[K\n",
      "remote: Total 25 (delta 0), reused 0 (delta 0), pack-reused 13 (from 1)\u001b[K\n",
      "Unpacking objects: 100% (25/25), 3.73 KiB | 764.00 KiB/s, done.\n"
     ]
    }
   ],
   "source": [
    "%cd /home/hoang/EmpathyEar/StyleTTS2\n",
    "!git clone https://huggingface.co/yl4579/StyleTTS2-LibriTTS"
   ]
  },
  {
   "cell_type": "code",
   "execution_count": 21,
   "metadata": {},
   "outputs": [
    {
     "name": "stdout",
     "output_type": "stream",
     "text": [
      "rm: cannot remove 'StyleTTS2-LibriTTS/Models/LibriTTS/epochs_2nd_00020.pth': No such file or directory\n",
      "/home/hoang/EmpathyEar/StyleTTS2/StyleTTS2-LibriTTS/Models/LibriTTS\n",
      "--2025-02-04 03:52:55--  https://huggingface.co/yl4579/StyleTTS2-LibriTTS/resolve/main/Models/LibriTTS/epochs_2nd_00020.pth\n",
      "Resolving huggingface.co (huggingface.co)... 3.162.58.97, 3.162.58.5, 3.162.58.119, ...\n",
      "Connecting to huggingface.co (huggingface.co)|3.162.58.97|:443... connected.\n",
      "HTTP request sent, awaiting response... 302 Found\n",
      "Location: https://cdn-lfs-us-1.hf.co/repos/0c/e0/0ce04c60c0a500a6858b3c954cfed4683dcc937152e0a38d54932d85f6f4ce39/1164ffe19a17449d2c722234cecaf2836b35a698fb8ffd42562d2663657dca0a?response-content-disposition=inline%3B+filename*%3DUTF-8%27%27epochs_2nd_00020.pth%3B+filename%3D%22epochs_2nd_00020.pth%22%3B&Expires=1738644776&Policy=eyJTdGF0ZW1lbnQiOlt7IkNvbmRpdGlvbiI6eyJEYXRlTGVzc1RoYW4iOnsiQVdTOkVwb2NoVGltZSI6MTczODY0NDc3Nn19LCJSZXNvdXJjZSI6Imh0dHBzOi8vY2RuLWxmcy11cy0xLmhmLmNvL3JlcG9zLzBjL2UwLzBjZTA0YzYwYzBhNTAwYTY4NThiM2M5NTRjZmVkNDY4M2RjYzkzNzE1MmUwYTM4ZDU0OTMyZDg1ZjZmNGNlMzkvMTE2NGZmZTE5YTE3NDQ5ZDJjNzIyMjM0Y2VjYWYyODM2YjM1YTY5OGZiOGZmZDQyNTYyZDI2NjM2NTdkY2EwYT9yZXNwb25zZS1jb250ZW50LWRpc3Bvc2l0aW9uPSoifV19&Signature=tCzG%7EteQXzwkx%7EonGNP6Ryj2OZefdOLT4vNfuoJ4UOQ5U6FXUJKKIDVgjynTg1Ox-vaz7kYHc0oF3%7En2fnfa-BY-zHJe9G8MrxsBhKWpm0WuqICIguNBzTaWi1PeHNq%7EiCDoQSVnV0RB0%7Ee2RfW9fpn5zlaUQa3LeUAc2z6Aw20SE%7EyRfAINIvI2Lsysb9raJwkgAKAauKOUI2Re8NmK8ar0ldbT-f315UEivKUhZjTB%7EmmtcB5UB1wlrEM5vB85L9qK189pdp%7EUXooq9SL9zExpGzSG6eLlULQkRQ0kMKgl4fww-2GFG5U%7E22hrlDb0kwtejlvv1JS8YWr5LGFrHw__&Key-Pair-Id=K24J24Z295AEI9 [following]\n",
      "--2025-02-04 03:52:56--  https://cdn-lfs-us-1.hf.co/repos/0c/e0/0ce04c60c0a500a6858b3c954cfed4683dcc937152e0a38d54932d85f6f4ce39/1164ffe19a17449d2c722234cecaf2836b35a698fb8ffd42562d2663657dca0a?response-content-disposition=inline%3B+filename*%3DUTF-8%27%27epochs_2nd_00020.pth%3B+filename%3D%22epochs_2nd_00020.pth%22%3B&Expires=1738644776&Policy=eyJTdGF0ZW1lbnQiOlt7IkNvbmRpdGlvbiI6eyJEYXRlTGVzc1RoYW4iOnsiQVdTOkVwb2NoVGltZSI6MTczODY0NDc3Nn19LCJSZXNvdXJjZSI6Imh0dHBzOi8vY2RuLWxmcy11cy0xLmhmLmNvL3JlcG9zLzBjL2UwLzBjZTA0YzYwYzBhNTAwYTY4NThiM2M5NTRjZmVkNDY4M2RjYzkzNzE1MmUwYTM4ZDU0OTMyZDg1ZjZmNGNlMzkvMTE2NGZmZTE5YTE3NDQ5ZDJjNzIyMjM0Y2VjYWYyODM2YjM1YTY5OGZiOGZmZDQyNTYyZDI2NjM2NTdkY2EwYT9yZXNwb25zZS1jb250ZW50LWRpc3Bvc2l0aW9uPSoifV19&Signature=tCzG%7EteQXzwkx%7EonGNP6Ryj2OZefdOLT4vNfuoJ4UOQ5U6FXUJKKIDVgjynTg1Ox-vaz7kYHc0oF3%7En2fnfa-BY-zHJe9G8MrxsBhKWpm0WuqICIguNBzTaWi1PeHNq%7EiCDoQSVnV0RB0%7Ee2RfW9fpn5zlaUQa3LeUAc2z6Aw20SE%7EyRfAINIvI2Lsysb9raJwkgAKAauKOUI2Re8NmK8ar0ldbT-f315UEivKUhZjTB%7EmmtcB5UB1wlrEM5vB85L9qK189pdp%7EUXooq9SL9zExpGzSG6eLlULQkRQ0kMKgl4fww-2GFG5U%7E22hrlDb0kwtejlvv1JS8YWr5LGFrHw__&Key-Pair-Id=K24J24Z295AEI9\n",
      "Resolving cdn-lfs-us-1.hf.co (cdn-lfs-us-1.hf.co)... 3.162.58.19, 3.162.58.124, 3.162.58.95, ...\n",
      "Connecting to cdn-lfs-us-1.hf.co (cdn-lfs-us-1.hf.co)|3.162.58.19|:443... connected.\n",
      "HTTP request sent, awaiting response... 200 OK\n",
      "Length: 771390526 (736M) [binary/octet-stream]\n",
      "Saving to: ‘epochs_2nd_00020.pth’\n",
      "\n",
      "epochs_2nd_00020.pt 100%[===================>] 735.66M  31.1MB/s    in 24s     \n",
      "\n",
      "2025-02-04 03:53:20 (31.1 MB/s) - ‘epochs_2nd_00020.pth’ saved [771390526/771390526]\n",
      "\n"
     ]
    }
   ],
   "source": [
    "!rm StyleTTS2-LibriTTS/Models/LibriTTS/epochs_2nd_00020.pth\n",
    "%cd StyleTTS2-LibriTTS/Models/LibriTTS\n",
    "!wget https://huggingface.co/yl4579/StyleTTS2-LibriTTS/resolve/main/Models/LibriTTS/epochs_2nd_00020.pth"
   ]
  },
  {
   "cell_type": "code",
   "execution_count": 22,
   "metadata": {},
   "outputs": [
    {
     "name": "stdout",
     "output_type": "stream",
     "text": [
      "1164ffe19a17449d2c722234cecaf2836b35a698fb8ffd42562d2663657dca0a  epochs_2nd_00020.pth\n"
     ]
    }
   ],
   "source": [
    "!shasum -a 256 epochs_2nd_00020.pth"
   ]
  },
  {
   "cell_type": "code",
   "execution_count": 26,
   "metadata": {},
   "outputs": [
    {
     "name": "stdout",
     "output_type": "stream",
     "text": [
      "/home/hoang/EmpathyEar/EAT\n",
      "Downloading...\n",
      "From (original): https://drive.google.com/uc?id=1KK15n2fOdfLECWN5wvX54mVyDt18IZCo\n",
      "From (redirected): https://drive.google.com/uc?id=1KK15n2fOdfLECWN5wvX54mVyDt18IZCo&confirm=t&uuid=62e38367-8987-4663-8687-5c3f10f7fb0a\n",
      "To: /home/hoang/EmpathyEar/EAT/ckpt.zip\n",
      "100%|██████████████████████████████████████| 3.97G/3.97G [02:46<00:00, 23.9MB/s]\n",
      "Downloading...\n",
      "From (original): https://drive.google.com/uc?id=1HGVzckXh-vYGZEUUKMntY1muIbkbnRcd\n",
      "From (redirected): https://drive.google.com/uc?id=1HGVzckXh-vYGZEUUKMntY1muIbkbnRcd&confirm=t&uuid=8bdcaf93-9643-4ba2-a17f-82652ecbf6ef\n",
      "To: /home/hoang/EmpathyEar/EAT/Utils.zip\n",
      "100%|████████████████████████████████████████| 104M/104M [00:04<00:00, 26.0MB/s]\n"
     ]
    }
   ],
   "source": [
    "%pip install gdown\n",
    "%cd /home/hoang/EmpathyEar/EAT\n",
    "!gdown 1KK15n2fOdfLECWN5wvX54mVyDt18IZCo && unzip -q ckpt.zip -d ckpt\n",
    "!gdown 1HGVzckXh-vYGZEUUKMntY1muIbkbnRcd && unzip -q Utils.zip -d Utils"
   ]
  },
  {
   "cell_type": "code",
   "execution_count": 2,
   "metadata": {},
   "outputs": [
    {
     "name": "stdout",
     "output_type": "stream",
     "text": [
      "Collecting git+https://github.com/resemble-ai/monotonic_align.git (from -r /home/hoang/EmpathyEar/StyleTTS2/requirements.txt (line 17))\n",
      "  Cloning https://github.com/resemble-ai/monotonic_align.git to /tmp/pip-req-build-lpdh0y5e\n",
      "  Running command git clone --filter=blob:none --quiet https://github.com/resemble-ai/monotonic_align.git /tmp/pip-req-build-lpdh0y5e\n",
      "  Resolved https://github.com/resemble-ai/monotonic_align.git to commit 78b985be210a03d08bc3acc01c4df0442105366f\n",
      "  Installing build dependencies ... \u001b[?25ldone\n",
      "\u001b[?25h  Getting requirements to build wheel ... \u001b[?25ldone\n",
      "\u001b[?25h  Preparing metadata (pyproject.toml) ... \u001b[?25ldone\n",
      "\u001b[?25hRequirement already satisfied: SoundFile in /home/hoang/.conda/envs/empathyear/lib/python3.7/site-packages (from -r /home/hoang/EmpathyEar/StyleTTS2/requirements.txt (line 1)) (0.12.1)\n",
      "Requirement already satisfied: torchaudio in /home/hoang/.conda/envs/empathyear/lib/python3.7/site-packages (from -r /home/hoang/EmpathyEar/StyleTTS2/requirements.txt (line 2)) (0.13.1)\n",
      "Requirement already satisfied: munch in /home/hoang/.conda/envs/empathyear/lib/python3.7/site-packages (from -r /home/hoang/EmpathyEar/StyleTTS2/requirements.txt (line 3)) (4.0.0)\n",
      "Requirement already satisfied: torch in /home/hoang/.conda/envs/empathyear/lib/python3.7/site-packages (from -r /home/hoang/EmpathyEar/StyleTTS2/requirements.txt (line 4)) (1.13.1)\n",
      "Collecting pydub\n",
      "  Downloading pydub-0.25.1-py2.py3-none-any.whl (32 kB)\n",
      "Requirement already satisfied: pyyaml in /home/hoang/.conda/envs/empathyear/lib/python3.7/site-packages (from -r /home/hoang/EmpathyEar/StyleTTS2/requirements.txt (line 6)) (6.0.1)\n",
      "Requirement already satisfied: librosa in /home/hoang/.conda/envs/empathyear/lib/python3.7/site-packages (from -r /home/hoang/EmpathyEar/StyleTTS2/requirements.txt (line 7)) (0.10.2.post1)\n",
      "Requirement already satisfied: nltk in /home/hoang/.conda/envs/empathyear/lib/python3.7/site-packages (from -r /home/hoang/EmpathyEar/StyleTTS2/requirements.txt (line 8)) (3.8.1)\n",
      "Requirement already satisfied: matplotlib in /home/hoang/.conda/envs/empathyear/lib/python3.7/site-packages (from -r /home/hoang/EmpathyEar/StyleTTS2/requirements.txt (line 9)) (3.5.3)\n",
      "Requirement already satisfied: accelerate in /home/hoang/.conda/envs/empathyear/lib/python3.7/site-packages (from -r /home/hoang/EmpathyEar/StyleTTS2/requirements.txt (line 10)) (0.20.3)\n",
      "Requirement already satisfied: transformers in /home/hoang/.conda/envs/empathyear/lib/python3.7/site-packages (from -r /home/hoang/EmpathyEar/StyleTTS2/requirements.txt (line 11)) (4.30.2)\n",
      "Requirement already satisfied: einops in /home/hoang/.conda/envs/empathyear/lib/python3.7/site-packages (from -r /home/hoang/EmpathyEar/StyleTTS2/requirements.txt (line 12)) (0.6.1)\n",
      "Requirement already satisfied: einops-exts in /home/hoang/.conda/envs/empathyear/lib/python3.7/site-packages (from -r /home/hoang/EmpathyEar/StyleTTS2/requirements.txt (line 13)) (0.0.4)\n",
      "Requirement already satisfied: tqdm in /home/hoang/.conda/envs/empathyear/lib/python3.7/site-packages (from -r /home/hoang/EmpathyEar/StyleTTS2/requirements.txt (line 14)) (4.65.0)\n",
      "Collecting typing\n",
      "  Downloading typing-3.7.4.3.tar.gz (78 kB)\n",
      "\u001b[2K     \u001b[90m━━━━━━━━━━━━━━━━━━━━━━━━━━━━━━━━━━━━━━━\u001b[0m \u001b[32m78.6/78.6 kB\u001b[0m \u001b[31m924.2 kB/s\u001b[0m eta \u001b[36m0:00:00\u001b[0m \u001b[36m0:00:01\u001b[0m\n",
      "\u001b[?25h  Preparing metadata (setup.py) ... \u001b[?25ldone\n",
      "\u001b[?25hRequirement already satisfied: typing-extensions in /home/hoang/.conda/envs/empathyear/lib/python3.7/site-packages (from -r /home/hoang/EmpathyEar/StyleTTS2/requirements.txt (line 16)) (4.7.1)\n",
      "Requirement already satisfied: cffi>=1.0 in /home/hoang/.conda/envs/empathyear/lib/python3.7/site-packages (from SoundFile->-r /home/hoang/EmpathyEar/StyleTTS2/requirements.txt (line 1)) (1.15.1)\n",
      "Requirement already satisfied: nvidia-cuda-runtime-cu11==11.7.99 in /home/hoang/.conda/envs/empathyear/lib/python3.7/site-packages (from torch->-r /home/hoang/EmpathyEar/StyleTTS2/requirements.txt (line 4)) (11.7.99)\n",
      "Requirement already satisfied: nvidia-cublas-cu11==11.10.3.66 in /home/hoang/.conda/envs/empathyear/lib/python3.7/site-packages (from torch->-r /home/hoang/EmpathyEar/StyleTTS2/requirements.txt (line 4)) (11.10.3.66)\n",
      "Requirement already satisfied: nvidia-cudnn-cu11==8.5.0.96 in /home/hoang/.conda/envs/empathyear/lib/python3.7/site-packages (from torch->-r /home/hoang/EmpathyEar/StyleTTS2/requirements.txt (line 4)) (8.5.0.96)\n",
      "Requirement already satisfied: nvidia-cuda-nvrtc-cu11==11.7.99 in /home/hoang/.conda/envs/empathyear/lib/python3.7/site-packages (from torch->-r /home/hoang/EmpathyEar/StyleTTS2/requirements.txt (line 4)) (11.7.99)\n",
      "Requirement already satisfied: wheel in /home/hoang/.conda/envs/empathyear/lib/python3.7/site-packages (from nvidia-cublas-cu11==11.10.3.66->torch->-r /home/hoang/EmpathyEar/StyleTTS2/requirements.txt (line 4)) (0.38.4)\n",
      "Requirement already satisfied: setuptools in /home/hoang/.conda/envs/empathyear/lib/python3.7/site-packages (from nvidia-cublas-cu11==11.10.3.66->torch->-r /home/hoang/EmpathyEar/StyleTTS2/requirements.txt (line 4)) (65.6.3)\n",
      "Requirement already satisfied: importlib-metadata>=1.7.0 in /home/hoang/.conda/envs/empathyear/lib/python3.7/site-packages (from munch->-r /home/hoang/EmpathyEar/StyleTTS2/requirements.txt (line 3)) (4.13.0)\n",
      "Requirement already satisfied: msgpack>=1.0 in /home/hoang/.conda/envs/empathyear/lib/python3.7/site-packages (from librosa->-r /home/hoang/EmpathyEar/StyleTTS2/requirements.txt (line 7)) (1.0.5)\n",
      "Requirement already satisfied: numba>=0.51.0 in /home/hoang/.conda/envs/empathyear/lib/python3.7/site-packages (from librosa->-r /home/hoang/EmpathyEar/StyleTTS2/requirements.txt (line 7)) (0.56.4)\n",
      "Requirement already satisfied: pooch>=1.1 in /home/hoang/.conda/envs/empathyear/lib/python3.7/site-packages (from librosa->-r /home/hoang/EmpathyEar/StyleTTS2/requirements.txt (line 7)) (1.8.1)\n",
      "Requirement already satisfied: numpy!=1.22.0,!=1.22.1,!=1.22.2,>=1.20.3 in /home/hoang/.conda/envs/empathyear/lib/python3.7/site-packages (from librosa->-r /home/hoang/EmpathyEar/StyleTTS2/requirements.txt (line 7)) (1.21.5)\n",
      "Requirement already satisfied: joblib>=0.14 in /home/hoang/.conda/envs/empathyear/lib/python3.7/site-packages (from librosa->-r /home/hoang/EmpathyEar/StyleTTS2/requirements.txt (line 7)) (1.1.1)\n",
      "Requirement already satisfied: scikit-learn>=0.20.0 in /home/hoang/.conda/envs/empathyear/lib/python3.7/site-packages (from librosa->-r /home/hoang/EmpathyEar/StyleTTS2/requirements.txt (line 7)) (0.24.2)\n",
      "Requirement already satisfied: lazy-loader>=0.1 in /home/hoang/.conda/envs/empathyear/lib/python3.7/site-packages (from librosa->-r /home/hoang/EmpathyEar/StyleTTS2/requirements.txt (line 7)) (0.4)\n",
      "Requirement already satisfied: scipy>=1.2.0 in /home/hoang/.conda/envs/empathyear/lib/python3.7/site-packages (from librosa->-r /home/hoang/EmpathyEar/StyleTTS2/requirements.txt (line 7)) (1.7.3)\n",
      "Requirement already satisfied: soxr>=0.3.2 in /home/hoang/.conda/envs/empathyear/lib/python3.7/site-packages (from librosa->-r /home/hoang/EmpathyEar/StyleTTS2/requirements.txt (line 7)) (0.3.7)\n",
      "Requirement already satisfied: audioread>=2.1.9 in /home/hoang/.conda/envs/empathyear/lib/python3.7/site-packages (from librosa->-r /home/hoang/EmpathyEar/StyleTTS2/requirements.txt (line 7)) (3.0.1)\n",
      "Requirement already satisfied: decorator>=4.3.0 in /home/hoang/.conda/envs/empathyear/lib/python3.7/site-packages (from librosa->-r /home/hoang/EmpathyEar/StyleTTS2/requirements.txt (line 7)) (5.1.1)\n",
      "Requirement already satisfied: regex>=2021.8.3 in /home/hoang/.conda/envs/empathyear/lib/python3.7/site-packages (from nltk->-r /home/hoang/EmpathyEar/StyleTTS2/requirements.txt (line 8)) (2024.4.16)\n",
      "Requirement already satisfied: click in /home/hoang/.conda/envs/empathyear/lib/python3.7/site-packages (from nltk->-r /home/hoang/EmpathyEar/StyleTTS2/requirements.txt (line 8)) (8.1.7)\n",
      "Requirement already satisfied: packaging>=20.0 in /home/hoang/.conda/envs/empathyear/lib/python3.7/site-packages (from matplotlib->-r /home/hoang/EmpathyEar/StyleTTS2/requirements.txt (line 9)) (22.0)\n",
      "Requirement already satisfied: python-dateutil>=2.7 in /home/hoang/.conda/envs/empathyear/lib/python3.7/site-packages (from matplotlib->-r /home/hoang/EmpathyEar/StyleTTS2/requirements.txt (line 9)) (2.8.2)\n",
      "Requirement already satisfied: cycler>=0.10 in /home/hoang/.conda/envs/empathyear/lib/python3.7/site-packages (from matplotlib->-r /home/hoang/EmpathyEar/StyleTTS2/requirements.txt (line 9)) (0.11.0)\n",
      "Requirement already satisfied: pyparsing>=2.2.1 in /home/hoang/.conda/envs/empathyear/lib/python3.7/site-packages (from matplotlib->-r /home/hoang/EmpathyEar/StyleTTS2/requirements.txt (line 9)) (3.0.9)\n",
      "Requirement already satisfied: pillow>=6.2.0 in /home/hoang/.conda/envs/empathyear/lib/python3.7/site-packages (from matplotlib->-r /home/hoang/EmpathyEar/StyleTTS2/requirements.txt (line 9)) (9.4.0)\n",
      "Requirement already satisfied: kiwisolver>=1.0.1 in /home/hoang/.conda/envs/empathyear/lib/python3.7/site-packages (from matplotlib->-r /home/hoang/EmpathyEar/StyleTTS2/requirements.txt (line 9)) (1.4.5)\n",
      "Requirement already satisfied: fonttools>=4.22.0 in /home/hoang/.conda/envs/empathyear/lib/python3.7/site-packages (from matplotlib->-r /home/hoang/EmpathyEar/StyleTTS2/requirements.txt (line 9)) (4.25.0)\n",
      "Requirement already satisfied: psutil in /home/hoang/.conda/envs/empathyear/lib/python3.7/site-packages (from accelerate->-r /home/hoang/EmpathyEar/StyleTTS2/requirements.txt (line 10)) (5.9.8)\n",
      "Requirement already satisfied: safetensors>=0.3.1 in /home/hoang/.conda/envs/empathyear/lib/python3.7/site-packages (from transformers->-r /home/hoang/EmpathyEar/StyleTTS2/requirements.txt (line 11)) (0.4.3)\n",
      "Requirement already satisfied: tokenizers!=0.11.3,<0.14,>=0.11.1 in /home/hoang/.conda/envs/empathyear/lib/python3.7/site-packages (from transformers->-r /home/hoang/EmpathyEar/StyleTTS2/requirements.txt (line 11)) (0.13.3)\n",
      "Requirement already satisfied: huggingface-hub<1.0,>=0.14.1 in /home/hoang/.conda/envs/empathyear/lib/python3.7/site-packages (from transformers->-r /home/hoang/EmpathyEar/StyleTTS2/requirements.txt (line 11)) (0.16.4)\n",
      "Requirement already satisfied: filelock in /home/hoang/.conda/envs/empathyear/lib/python3.7/site-packages (from transformers->-r /home/hoang/EmpathyEar/StyleTTS2/requirements.txt (line 11)) (3.12.2)\n",
      "Requirement already satisfied: requests in /home/hoang/.conda/envs/empathyear/lib/python3.7/site-packages (from transformers->-r /home/hoang/EmpathyEar/StyleTTS2/requirements.txt (line 11)) (2.28.1)\n",
      "Requirement already satisfied: pycparser in /home/hoang/.conda/envs/empathyear/lib/python3.7/site-packages (from cffi>=1.0->SoundFile->-r /home/hoang/EmpathyEar/StyleTTS2/requirements.txt (line 1)) (2.21)\n",
      "Requirement already satisfied: fsspec in /home/hoang/.conda/envs/empathyear/lib/python3.7/site-packages (from huggingface-hub<1.0,>=0.14.1->transformers->-r /home/hoang/EmpathyEar/StyleTTS2/requirements.txt (line 11)) (2022.11.0)\n",
      "Requirement already satisfied: zipp>=0.5 in /home/hoang/.conda/envs/empathyear/lib/python3.7/site-packages (from importlib-metadata>=1.7.0->munch->-r /home/hoang/EmpathyEar/StyleTTS2/requirements.txt (line 3)) (3.15.0)\n",
      "Requirement already satisfied: llvmlite<0.40,>=0.39.0dev0 in /home/hoang/.conda/envs/empathyear/lib/python3.7/site-packages (from numba>=0.51.0->librosa->-r /home/hoang/EmpathyEar/StyleTTS2/requirements.txt (line 7)) (0.39.1)\n",
      "Requirement already satisfied: platformdirs>=2.5.0 in /home/hoang/.conda/envs/empathyear/lib/python3.7/site-packages (from pooch>=1.1->librosa->-r /home/hoang/EmpathyEar/StyleTTS2/requirements.txt (line 7)) (4.0.0)\n",
      "Requirement already satisfied: six>=1.5 in /home/hoang/.conda/envs/empathyear/lib/python3.7/site-packages (from python-dateutil>=2.7->matplotlib->-r /home/hoang/EmpathyEar/StyleTTS2/requirements.txt (line 9)) (1.16.0)\n",
      "Requirement already satisfied: charset-normalizer<3,>=2 in /home/hoang/.conda/envs/empathyear/lib/python3.7/site-packages (from requests->transformers->-r /home/hoang/EmpathyEar/StyleTTS2/requirements.txt (line 11)) (2.0.4)\n",
      "Requirement already satisfied: certifi>=2017.4.17 in /home/hoang/.conda/envs/empathyear/lib/python3.7/site-packages (from requests->transformers->-r /home/hoang/EmpathyEar/StyleTTS2/requirements.txt (line 11)) (2024.8.30)\n",
      "Requirement already satisfied: urllib3<1.27,>=1.21.1 in /home/hoang/.conda/envs/empathyear/lib/python3.7/site-packages (from requests->transformers->-r /home/hoang/EmpathyEar/StyleTTS2/requirements.txt (line 11)) (1.26.14)\n",
      "Requirement already satisfied: idna<4,>=2.5 in /home/hoang/.conda/envs/empathyear/lib/python3.7/site-packages (from requests->transformers->-r /home/hoang/EmpathyEar/StyleTTS2/requirements.txt (line 11)) (3.4)\n",
      "Requirement already satisfied: threadpoolctl>=2.0.0 in /home/hoang/.conda/envs/empathyear/lib/python3.7/site-packages (from scikit-learn>=0.20.0->librosa->-r /home/hoang/EmpathyEar/StyleTTS2/requirements.txt (line 7)) (2.2.0)\n",
      "Building wheels for collected packages: typing, monotonic-align\n",
      "  Building wheel for typing (setup.py) ... \u001b[?25ldone\n",
      "\u001b[?25h  Created wheel for typing: filename=typing-3.7.4.3-py3-none-any.whl size=26304 sha256=b4210e14f9a09a46c643c1fa1c86ebfcdc487a5fbc48d73d4f3a76c47498ba49\n",
      "  Stored in directory: /home/hoang/.cache/pip/wheels/f9/53/6b/89c460c5ace18b7d98e8b73531a93e647e5cec1d7eaa794853\n",
      "  Building wheel for monotonic-align (pyproject.toml) ... \u001b[?25ldone\n",
      "\u001b[?25h  Created wheel for monotonic-align: filename=monotonic_align-1.2-cp37-cp37m-linux_x86_64.whl size=1626892 sha256=7f0ecb3c934bd3dceb0014f689c1f16ab9df780a40a8ff403d11a1f5bf7f4c20\n",
      "  Stored in directory: /tmp/pip-ephem-wheel-cache-aczq0khc/wheels/3c/77/69/d8469156d486dd51c784b1b149ecb2a86f23cb139359a4a375\n",
      "Successfully built typing monotonic-align\n",
      "Installing collected packages: pydub, typing, monotonic-align\n",
      "  Attempting uninstall: monotonic-align\n",
      "    Found existing installation: monotonic-align 1.0.0\n",
      "    Uninstalling monotonic-align-1.0.0:\n",
      "      Successfully uninstalled monotonic-align-1.0.0\n",
      "Successfully installed monotonic-align-1.2 pydub-0.25.1 typing-3.7.4.3\n",
      "Note: you may need to restart the kernel to use updated packages.\n"
     ]
    }
   ],
   "source": [
    "%pip install -r /home/hoang/EmpathyEar/StyleTTS2/requirements.txt"
   ]
  },
  {
   "cell_type": "code",
   "execution_count": 1,
   "metadata": {},
   "outputs": [
    {
     "name": "stdout",
     "output_type": "stream",
     "text": [
      "/home/hoang/EmpathyEar\n",
      "Traceback (most recent call last):\n",
      "  File \"inference.py\", line 15, in <module>\n",
      "    from StyleTTS2.styletts2 import StyleTTS2\n",
      "  File \"/home/hoang/EmpathyEar/StyleTTS2/styletts2.py\", line 6, in <module>\n",
      "    from StyleTTS2.utils import *\n",
      "  File \"/home/hoang/EmpathyEar/StyleTTS2/utils.py\", line 11, in <module>\n",
      "    import matplotlib.pyplot as plt\n",
      "  File \"/home/hoang/.conda/envs/empathyear/lib/python3.7/site-packages/matplotlib/__init__.py\", line 109, in <module>\n",
      "    from . import _api, _version, cbook, docstring, rcsetup\n",
      "  File \"/home/hoang/.conda/envs/empathyear/lib/python3.7/site-packages/matplotlib/rcsetup.py\", line 27, in <module>\n",
      "    from matplotlib.colors import Colormap, is_color_like\n",
      "  File \"/home/hoang/.conda/envs/empathyear/lib/python3.7/site-packages/matplotlib/colors.py\", line 56, in <module>\n",
      "    from matplotlib import _api, cbook, scale\n",
      "  File \"/home/hoang/.conda/envs/empathyear/lib/python3.7/site-packages/matplotlib/scale.py\", line 23, in <module>\n",
      "    from matplotlib.ticker import (\n",
      "  File \"/home/hoang/.conda/envs/empathyear/lib/python3.7/site-packages/matplotlib/ticker.py\", line 136, in <module>\n",
      "    from matplotlib import transforms as mtransforms\n",
      "  File \"/home/hoang/.conda/envs/empathyear/lib/python3.7/site-packages/matplotlib/transforms.py\", line 46, in <module>\n",
      "    from matplotlib._path import (\n",
      "ImportError: /lib/x86_64-linux-gnu/libstdc++.so.6: version `GLIBCXX_3.4.29' not found (required by /home/hoang/.conda/envs/empathyear/lib/python3.7/site-packages/matplotlib/_path.cpython-37m-x86_64-linux-gnu.so)\n"
     ]
    }
   ],
   "source": [
    "%cd /home/hoang/EmpathyEar\n",
    "!python inference.py"
   ]
  },
  {
   "cell_type": "code",
   "execution_count": 2,
   "metadata": {},
   "outputs": [
    {
     "name": "stdout",
     "output_type": "stream",
     "text": [
      "GLIBCXX_3.4\n",
      "GLIBCXX_3.4.1\n",
      "GLIBCXX_3.4.2\n",
      "GLIBCXX_3.4.3\n",
      "GLIBCXX_3.4.4\n",
      "GLIBCXX_3.4.5\n",
      "GLIBCXX_3.4.6\n",
      "GLIBCXX_3.4.7\n",
      "GLIBCXX_3.4.8\n",
      "GLIBCXX_3.4.9\n",
      "GLIBCXX_3.4.10\n",
      "GLIBCXX_3.4.11\n",
      "GLIBCXX_3.4.12\n",
      "GLIBCXX_3.4.13\n",
      "GLIBCXX_3.4.14\n",
      "GLIBCXX_3.4.15\n",
      "GLIBCXX_3.4.16\n",
      "GLIBCXX_3.4.17\n",
      "GLIBCXX_3.4.18\n",
      "GLIBCXX_3.4.19\n",
      "GLIBCXX_3.4.20\n",
      "GLIBCXX_3.4.21\n",
      "GLIBCXX_3.4.22\n",
      "GLIBCXX_3.4.23\n",
      "GLIBCXX_3.4.24\n",
      "GLIBCXX_3.4.25\n",
      "GLIBCXX_3.4.26\n",
      "GLIBCXX_3.4.27\n",
      "GLIBCXX_3.4.28\n",
      "GLIBCXX_DEBUG_MESSAGE_LENGTH\n"
     ]
    }
   ],
   "source": [
    "!strings /usr/lib/x86_64-linux-gnu/libstdc++.so.6 | grep GLIBCXX"
   ]
  },
  {
   "cell_type": "code",
   "execution_count": 1,
   "metadata": {},
   "outputs": [
    {
     "name": "stdout",
     "output_type": "stream",
     "text": [
      "<class 'numpy.ndarray'>\n",
      "(5255,)\n",
      "['Yeah about 10 years ago I had a horrifying experience. It was 100% their fault but they hit the water barrels and survived. They had no injuries but they almost ran me off the road.']\n"
     ]
    }
   ],
   "source": [
    "import numpy as np\n",
    "\n",
    "# Đọc file .npy\n",
    "data = np.load(\"/home/hoang/EmpathyEar/Data/empathetic-dialogue-emb/sys_dialog_texts.test.npy\", allow_pickle=True)\n",
    "\n",
    "# In dữ liệu\n",
    "# print(data)\n",
    "print(type(data))  # Kiểm tra kiểu dữ liệu\n",
    "print(data.shape)  # Kiểm tra kích thước mảng\n",
    "print(data[0])"
   ]
  },
  {
   "cell_type": "code",
   "execution_count": 2,
   "metadata": {},
   "outputs": [],
   "source": [
    "import json\n",
    "\n",
    "content = {}\n",
    "for i in range(len(data)):\n",
    "    content[i] = '. '.join(data[i])\n",
    "\n",
    "with open ('input.json', 'w', encoding='utf-8') as f:\n",
    "    json.dump(content, f, ensure_ascii=False, indent=4)"
   ]
  }
 ],
 "metadata": {
  "kernelspec": {
   "display_name": "empathyear",
   "language": "python",
   "name": "python3"
  },
  "language_info": {
   "codemirror_mode": {
    "name": "ipython",
    "version": 3
   },
   "file_extension": ".py",
   "mimetype": "text/x-python",
   "name": "python",
   "nbconvert_exporter": "python",
   "pygments_lexer": "ipython3",
   "version": "3.7.16"
  }
 },
 "nbformat": 4,
 "nbformat_minor": 2
}
